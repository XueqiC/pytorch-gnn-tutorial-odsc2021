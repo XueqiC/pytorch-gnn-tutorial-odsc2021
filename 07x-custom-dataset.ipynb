{
  "nbformat": 4,
  "nbformat_minor": 0,
  "metadata": {
    "colab": {
      "name": "07x-custom-dataset.ipynb",
      "provenance": [],
      "collapsed_sections": []
    },
    "kernelspec": {
      "name": "python3",
      "display_name": "Python 3"
    },
    "language_info": {
      "name": "python"
    }
  },
  "cells": [
    {
      "cell_type": "markdown",
      "metadata": {
        "id": "duBL5_7Rb2Za"
      },
      "source": [
        "# Custom Dataset\n",
        "\n",
        "You are provided a pair of files with data.\n",
        "\n",
        "* `node.csv` -- a TSV file containing the node ID and a node feature vector of size 100.\n",
        "```\n",
        "0\t0.38250,0.55505,0.32324,0.69098,0.97875,0.50953,0.59311,0.93023,0.52275,0.21924\n",
        "```\n",
        "* `edges.csv` -- a TSV file with pairs of node IDs that are connected.\n",
        "```\n",
        "0\t277\n",
        "0\t445\n",
        "```\n",
        "\n",
        "Running the cell under __Create Raw Data__ section will write out the raw files under `random/raw`.\n",
        "\n",
        "Construct a custom dataset that extends `torch_geometric.data.Dataset` similar to the CORA dataset, i.e. with only one graph in the dataset. The custom dataset should `process` the raw files and write out a `Data` object in the `random/processed`.\n",
        "\n",
        "Instantiate the custom dataset, you should see new files appear in the `random/processed` folder.\n",
        "\n",
        "Verify that the length of the dataset is 1 and the number of node features is 100.\n",
        "\n",
        "## Setup"
      ]
    },
    {
      "cell_type": "code",
      "metadata": {
        "colab": {
          "base_uri": "https://localhost:8080/",
          "height": 35
        },
        "id": "ZjKqWQMJKgD8",
        "outputId": "24be8a05-29f5-4541-e99a-7831f2fbc07a"
      },
      "source": [
        "import torch\n",
        "torch.__version__"
      ],
      "execution_count": null,
      "outputs": [
        {
          "output_type": "execute_result",
          "data": {
            "application/vnd.google.colaboratory.intrinsic+json": {
              "type": "string"
            },
            "text/plain": [
              "'1.9.0+cu111'"
            ]
          },
          "metadata": {},
          "execution_count": 1
        }
      ]
    },
    {
      "cell_type": "code",
      "metadata": {
        "id": "a3adiZrCKn91"
      },
      "source": [
        "!pip install -q torch-scatter -f https://pytorch-geometric.com/whl/torch-1.9.0+cu111.html\n",
        "!pip install -q torch-sparse -f https://pytorch-geometric.com/whl/torch-1.9.0+cu111.html\n",
        "!pip install -q torch-geometric"
      ],
      "execution_count": null,
      "outputs": []
    },
    {
      "cell_type": "markdown",
      "metadata": {
        "id": "SUH_tLX8b7RU"
      },
      "source": [
        "## Create Raw Data"
      ]
    },
    {
      "cell_type": "code",
      "metadata": {
        "id": "bfYCY0TOKqka"
      },
      "source": [
        "import numpy as np\n",
        "import os\n",
        "import shutil\n",
        "import torch_geometric.utils as pyg_utils\n",
        "\n",
        "raw_dir = \"random/raw\"\n",
        "\n",
        "shutil.rmtree(\"random\")\n",
        "os.makedirs(raw_dir)\n",
        "for i in range(50):\n",
        "  edge_index = pyg_utils.barabasi_albert_graph(100, 50)\n",
        "  node_features = torch.rand((100, 10), dtype=torch.float32)\n",
        "  fnode = open(os.path.join(raw_dir, \"node-{:d}.csv\".format(i)), \"w\")\n",
        "  for j in range(node_features.size(0)):\n",
        "    features = node_features[j].numpy().tolist()\n",
        "    features_str = \",\".join([\"{:.5f}\".format(feat) for feat in features])\n",
        "    fnode.write(\"{:d}\\t{:s}\\n\".format(j, features_str))\n",
        "  fnode.close()\n",
        "  fedge = open(os.path.join(raw_dir, \"edge-{:d}.csv\".format(i)), \"w\")\n",
        "  for j in range(edge_index.size(1)):\n",
        "    src, dst = edge_index[0, j], edge_index[1, j]\n",
        "    fedge.write(\"{:d}\\t{:d}\\n\".format(src, dst))\n",
        "  fedge.close()"
      ],
      "execution_count": null,
      "outputs": []
    },
    {
      "cell_type": "markdown",
      "metadata": {
        "id": "1KYZEKcwcLJp"
      },
      "source": [
        "## Custom Dataset\n",
        "\n",
        "Extend the `torch_geometric.data.Dataset` object to create a PyG Dataset object.\n",
        "\n",
        "Use the code in the Pytorch documentation page [Creating your own Dataset](https://pytorch-geometric.readthedocs.io/en/latest/notes/create_dataset.html) and/or the [Youtube video on Creating a Custom Dataset in Pytorch Geometric](https://www.youtube.com/watch?v=QLIkOtKS4os) by DeepFindr as examples."
      ]
    },
    {
      "cell_type": "code",
      "metadata": {
        "id": "DW6Zi6X-MYwc"
      },
      "source": [
        "import torch_geometric.data as pyg_data"
      ],
      "execution_count": null,
      "outputs": []
    },
    {
      "cell_type": "code",
      "metadata": {
        "id": "oXjSecFdqg9e"
      },
      "source": [
        "# your code here"
      ],
      "execution_count": null,
      "outputs": []
    },
    {
      "cell_type": "markdown",
      "metadata": {
        "id": "eV_cNRDwqlFK"
      },
      "source": [
        "## Test Custom Dataset\n",
        "\n",
        "You should be able to instantiate your new custom Dataset and verify its properties.\n",
        "\n",
        "* `num_features` -- should be 10\n",
        "* `len()` -- should be 50"
      ]
    },
    {
      "cell_type": "code",
      "metadata": {
        "id": "NDwB-9cwq5zI"
      },
      "source": [
        "# your code here"
      ],
      "execution_count": null,
      "outputs": []
    },
    {
      "cell_type": "markdown",
      "metadata": {
        "id": "Pft_XU4scUPI"
      },
      "source": [
        "## Wrap in DataLoader\n",
        "\n",
        "Try wrapping your custom Dataset into a PyG DataLoader and iterate through one batch. Print out the batch and verify that it looks right (for example, the number of labels should be the same as your batch size)."
      ]
    },
    {
      "cell_type": "code",
      "metadata": {
        "id": "rU8kV28oq9f6"
      },
      "source": [
        "from torch_geometric.loader import DataLoader"
      ],
      "execution_count": null,
      "outputs": []
    },
    {
      "cell_type": "code",
      "metadata": {
        "id": "zOs_lyixrAaq"
      },
      "source": [
        "# your code here"
      ],
      "execution_count": null,
      "outputs": []
    },
    {
      "cell_type": "code",
      "metadata": {
        "id": "_Zba4CZQbe1C"
      },
      "source": [
        ""
      ],
      "execution_count": null,
      "outputs": []
    }
  ]
}