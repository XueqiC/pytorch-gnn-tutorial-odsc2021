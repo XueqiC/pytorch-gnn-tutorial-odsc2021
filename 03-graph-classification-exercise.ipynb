{
  "nbformat": 4,
  "nbformat_minor": 0,
  "metadata": {
    "colab": {
      "name": "03x-graph-classification.ipynb",
      "provenance": [],
      "collapsed_sections": []
    },
    "kernelspec": {
      "name": "python3",
      "display_name": "Python 3"
    },
    "language_info": {
      "name": "python"
    },
    "accelerator": "GPU"
  },
  "cells": [
    {
      "cell_type": "markdown",
      "metadata": {
        "id": "QBwBgrQrDvWi"
      },
      "source": [
        "# Graph Classification\n",
        "\n",
        "Build a GNN to predict whether a molecule inhibits HIV virus replication or not (i.e. a binary target) given its molecular structure as a graph.\n",
        "\n",
        "We will use the [ogbg-molhiv](https://ogb.stanford.edu/docs/graphprop/#ogbg-mol) dataset to train and evaluate our GNN.\n",
        "\n",
        "## Setup\n",
        "\n",
        "The following two cells import Pytorch and some supporting packages that depend on the version of Pytorch, as well as Pytorch Geometric (PyG) and the OGB package. \n",
        "\n",
        "We need [Open Graph Benchmark (OGB)](https://ogb.stanford.edu/docs/home/) package here for its `PygGraphPropPredDataset` dataset loader and the `AtomEncoder` (more on that below).\n"
      ]
    },
    {
      "cell_type": "code",
      "metadata": {
        "colab": {
          "base_uri": "https://localhost:8080/",
          "height": 35
        },
        "id": "awjbmslHMRmh",
        "outputId": "3288505b-7965-4d26-a149-47a376c37796"
      },
      "source": [
        "import torch\n",
        "torch.__version__"
      ],
      "execution_count": null,
      "outputs": [
        {
          "output_type": "execute_result",
          "data": {
            "application/vnd.google.colaboratory.intrinsic+json": {
              "type": "string"
            },
            "text/plain": [
              "'1.9.0+cu111'"
            ]
          },
          "metadata": {},
          "execution_count": 1
        }
      ]
    },
    {
      "cell_type": "code",
      "metadata": {
        "id": "_94GrcamWm59"
      },
      "source": [
        "%%capture\n",
        "!pip install -q torch-scatter -f https://pytorch-geometric.com/whl/torch-1.9.0+cu111.html\n",
        "!pip install -q torch-sparse -f https://pytorch-geometric.com/whl/torch-1.9.0+cu111.html\n",
        "!pip install -q torch-geometric\n",
        "!pip install ogb"
      ],
      "execution_count": null,
      "outputs": []
    },
    {
      "cell_type": "markdown",
      "metadata": {
        "id": "qa9UPvQ2bE3W"
      },
      "source": [
        "## Dataset\n",
        "\n",
        "The [ogbg-molhiv](https://ogb.stanford.edu/docs/graphprop/#ogbg-mol) dataset is part of the [MoleculeNet](https://pubs.rsc.org/en/content/articlehtml/2018/sc/c7sc02664a) dataset. \n",
        "\n",
        "The dataset contains 41,127 molecules, each represented as a graph. Each graph represents a molecule, where nodes are atoms, and edges are chemical bonds. Input node features are 9-dimensional, containing atomic number and chirality, as well as other additional atom features such as formal charge and whether the atom is in the ring or not. Each molecule contains a 0 or 1 label, indicating whether the molecule inhibits HIV virus replication or not.\n",
        "\n",
        "Use the `PygGraphPropPredDataset` loader to retrieve the `ogbg-molhiv` dataset. To see how this is done, refer to the Data Loaders section of the [OGB documentation](https://ogb.stanford.edu/docs/home/).\n",
        "\n",
        "Once the dataset is downloaded, find and confirm the following details.\n",
        "\n",
        "1. Number of features for each node (should be 9)\n",
        "2. Number of targets (should be 2)\n",
        "3. Number of graphs in dataset (should be 41127)"
      ]
    },
    {
      "cell_type": "code",
      "metadata": {
        "id": "vw8ZVJxiYlaH"
      },
      "source": [
        "from ogb.graphproppred import PygGraphPropPredDataset"
      ],
      "execution_count": null,
      "outputs": []
    },
    {
      "cell_type": "code",
      "metadata": {
        "id": "01xiXxx4YdBc"
      },
      "source": [
        "# your code here"
      ],
      "execution_count": null,
      "outputs": []
    },
    {
      "cell_type": "markdown",
      "metadata": {
        "id": "PKKBOSImbHqy"
      },
      "source": [
        "## Visualize Dataset\n",
        "\n",
        "Pick a random graph from the dataset and visualize what it looks like. You can do it in at one of at least two ways.\n",
        "\n",
        "* __Using the edge_index__ -- extract the `edge_index` from the `Data` object and reformat it as a list of node tuples. Create a networkx graph using `networkx.from_edgelist(edges)` then use `networkx.draw()` to draw the graph.\n",
        "* __Using PyG utils__ -- PyG offers a `utils.to_networkx()` that takes a `Data` object directly. Use that to create a `networkx` graph object, then use `networkx.draw()` to draw the graph."
      ]
    },
    {
      "cell_type": "code",
      "metadata": {
        "id": "RJsQIlK5YgEz"
      },
      "source": [
        "import networkx as nx\n",
        "import torch_geometric.utils as pyg_utils"
      ],
      "execution_count": null,
      "outputs": []
    },
    {
      "cell_type": "code",
      "metadata": {
        "id": "oy9KHBglYke3"
      },
      "source": [
        "# your code here"
      ],
      "execution_count": null,
      "outputs": []
    },
    {
      "cell_type": "markdown",
      "metadata": {
        "id": "Js7KKsq8eltF"
      },
      "source": [
        "## Visualize Label Distribution\n",
        "\n",
        "As expected, the dataset is very heavily skewed towards molecules that don't inhibit HIV replication.\n",
        "\n",
        "Verify that the dataset is heavily skewed. Compute the label distribution and visualize it using a histogram."
      ]
    },
    {
      "cell_type": "code",
      "metadata": {
        "id": "KhHhPxr7enbA"
      },
      "source": [
        "import matplotlib.pyplot as plt"
      ],
      "execution_count": null,
      "outputs": []
    },
    {
      "cell_type": "code",
      "metadata": {
        "id": "mv_RKB0denSD"
      },
      "source": [
        "# your code here"
      ],
      "execution_count": null,
      "outputs": []
    },
    {
      "cell_type": "markdown",
      "metadata": {
        "id": "3hABbeVwbVUq"
      },
      "source": [
        "## Split and DataLoader\n",
        "\n",
        "The dataset created using `PygGraphPropPredDataset` comes with a `get_idx_splits()` function that provides indices for train, validation and test splits.\n",
        "\n",
        "Extract this information and use it to build the training, validation and test DataLoaders. Refer to the Data Loaders section of the [OGB Documentation](https://ogb.stanford.edu/docs/home/) page to see how to do this."
      ]
    },
    {
      "cell_type": "code",
      "metadata": {
        "id": "xQqzEWltZIif"
      },
      "source": [
        "from torch_geometric.loader import DataLoader"
      ],
      "execution_count": null,
      "outputs": []
    },
    {
      "cell_type": "code",
      "metadata": {
        "id": "n5pRxHcTYoO7"
      },
      "source": [
        "# your code here"
      ],
      "execution_count": null,
      "outputs": []
    },
    {
      "cell_type": "markdown",
      "metadata": {
        "id": "QPDbDvSscrJZ"
      },
      "source": [
        "## Model\n",
        "\n",
        "The model we will use is very similar to our node classification model. \n",
        "\n",
        "As before, we have a variable number of `GCNConv` layers that determine how large a neighborhood we are considering for each node (k GCN layers == k-hop neighborhood).\n",
        "\n",
        "However, in this case we are using the GCN layers as a graph encoder. Assuming that the output of the last GCN has dimension _H_ and the number of nodes in a graph is _N_, then the encoding for that graph after passing through the GCN layers is _(H, N)_.\n",
        "\n",
        "Each graph can have variable number of nodes, so we then pass this data through a pooling layer that pools across all the nodes in the graph, giving us a vector of size _(H)_ for each graph.\n",
        "\n",
        "A batch of these vectors are then fed into the classifier head, which is one or more Linear layers that project the vectors from the hidden dimension to the output dimension, i.e. the number of classes.\n",
        "\n",
        "---\n",
        "\n",
        "![fig-03-01.png](data:image/png;base64,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)\n",
        "\n",
        "---\n",
        "Build the GNN model for graph prediction with the following layers.\n",
        "\n",
        "1. An `AtomEncoder` layer to convert from the 9 categorical features based on the chemical properties of each node (atom) in the molecule into a fixed size hidden representation _H_ (should be parameterized). Refer to the Module section of the [OGB Documentation](https://ogb.stanford.edu/docs/graphprop/) for more information.\n",
        "2. _(k - 1)_ layers, where _k_ is the number of graph layers requested (should be parameterized).\n",
        "  * `GCNConv` layer with input and output dimensions _H_.\n",
        "  * A `torch.nn.BatchNorm1d` layer with _H_ features.\n",
        "  * A `torch.nn.ReLU` activation layer\n",
        "  * A `torch.nn.Dropout` layer (dropout percentage should be parameterized)\n",
        "3. The _k-th_ layer is a `GCNConv` with input and output dimensions _H_.\n",
        "3. A `torch_geometric.global_mean_pool` pooling layer that pools across the batch of node features.\n",
        "4. A single `torch.nn.Linear` layer to project the batch of vectors with dimension _H_ to the target dimension (number of classes, should be parameterized).\n",
        "\n",
        "Test the model using a batch of data from the train DataLoader and verify that the input and output are correct.\n",
        "\n"
      ]
    },
    {
      "cell_type": "code",
      "metadata": {
        "id": "k9h3OVtWfN_E"
      },
      "source": [
        "import torch.nn as nn\n",
        "import torch.nn.functional as F\n",
        "import torch_geometric.nn as pyg_nn\n",
        "\n",
        "from ogb.graphproppred.mol_encoder import AtomEncoder"
      ],
      "execution_count": null,
      "outputs": []
    },
    {
      "cell_type": "code",
      "metadata": {
        "id": "A73H-ddjYq8d"
      },
      "source": [
        "# your code here"
      ],
      "execution_count": null,
      "outputs": []
    },
    {
      "cell_type": "markdown",
      "metadata": {
        "id": "LlcirVXglNLv"
      },
      "source": [
        "## Training Loop\n",
        "\n",
        "As with our node classification example, the training loop is composed of alternate calls to `train_step` and `eval_step` functions over multiple epochs of training.\n",
        "\n",
        "However, unlike the node classification example, we will use ROC-AUC as our evaluation criteria rather than accuracy. The [rationale for this choice](https://datascience.stackexchange.com/questions/806/advantages-of-auc-vs-standard-accuracy) is explained in detail in the accepted answer in this Stack Exchange page. Basically, AUC is a better metric to gauge the strength of our model compared to accuracy because:\n",
        "\n",
        "* our dataset is skewed\n",
        "* our task is binary classification\n",
        "* AUC forces model selection that are more discriminative.\n",
        "\n",
        "The [Scikit-Learn documentation page on ROC-AUC]((https://scikit-learn.org/stable/modules/model_evaluation.html#roc-metrics)) provides additional intuition about the ROC-AUC metric.\n",
        "\n",
        "So our steps are as follows:\n",
        "\n",
        "1. Build the `train_step` function with the following signature. You can copy-paste most of what you built in the previous exercise except for some important differences.\n",
        "    * the size of the batch is given by `batch.num_graphs` and not just `len(batch)`\n",
        "    * we are using a different loss function `BCEWithLogits` instead of `NLLLoss`, that might require changes to how you compute the loss.\n",
        "    * We will need to compute the ROC-AUC instead of the accuracy per batch in our `train_step` and `eval_step` functions.\n",
        "    * At the end of each batch, accumulate a data structure `label_preds` which is a tuple of (label:Float, prediction:Array`[(Float, Float)]` and return it along with the `loss` and `accuracy`.\n",
        "\n",
        "```\n",
        "def train_step(model: torch.nn.Module, \n",
        "               optimizer: torch.optim.Optimizer, \n",
        "               loss_fn, torch.nn.CrossEntropyLoss,\n",
        "               train_loader: torch_geometric.loader.DataLoader,\n",
        "               device: torch.Device\n",
        "              ) -> (\n",
        "               train_loss: Float, \n",
        "               train_acc: Float,\n",
        "               label_preds: List[(Float, [Float, Float])]\n",
        "              )\n",
        "```\n",
        "\n",
        "2. Build the `eval_step` function with the signature given below. As before, the same code should be usable for validation and testing by appropriately setting the `is_validation` parameter. Also you may be able to copy-paste the code from the previous exercise here as well, with the same caveats listed in the instructions for the `train_step`.\n",
        "\n",
        "As with the `train_step`, accumulate and return the `label_preds` data structure.\n",
        "\n",
        "```\n",
        "def eval_step(model: torch.nn.Module, \n",
        "              loss_fn: torch.nn.CrossEntropyLoss, \n",
        "              eval_loader: torch_geometric.loader.DataLoader,\n",
        "              device: torch.Device, \n",
        "              is_validation=False: boolean\n",
        "            ) -> (\n",
        "              eval_loss: Float,\n",
        "              eval_acc: Float,\n",
        "              label_preds: List[Float, [Float, Float]]\n",
        "            )\n",
        "```\n",
        "\n",
        "3. Build the `train_loop` function with the following signature. You should be able to copy-paste this directly from the node classification exercise. It takes in a union of parameters required by the `train_step` and `eval_step` and produces a `history` list of the tuple `(train_loss, train_acc, train_auc, val_loss, val_acc, val_auc)` for drawing the loss plots. It periodically (`log_every`) writes out the values to console.\n",
        "\n",
        "Use the `roc_auc_score` from Scikit-Learn to compute the ROC-AUC score for training and validation from the `label_preds` data structure, and report it along with the train and validation loss and accuracy.\n",
        "\n",
        "```\n",
        "def train_loop(model: torch.nn.Module, \n",
        "               optimizer: torch.optim.Optimizer, \n",
        "               loss_fn: torch.nn.CrossEntropyLoss, \n",
        "               train_loader: torch_geometric.loader.DataLoader,\n",
        "               val_loader: torch_geometric.loader.DataLoader,\n",
        "               device: torch.Device, \n",
        "               num_epochs: Int, \n",
        "               log_every=5: Int\n",
        "              ) -> List[(Float, Float, Float, \n",
        "                         Float, Float, Float)]\n",
        "\n",
        "```"
      ]
    },
    {
      "cell_type": "code",
      "metadata": {
        "id": "2DjC29K6YyBy"
      },
      "source": [
        "# your code here"
      ],
      "execution_count": null,
      "outputs": []
    },
    {
      "cell_type": "markdown",
      "metadata": {
        "id": "Ok9ZbOzvlt1V"
      },
      "source": [
        "## Training\n",
        "\n",
        "Now train the network using the hyperparameters in the cell below.\n",
        "\n",
        "1. At this point, if your code runs without errors, you can switch from using CPU to GPU. To do so, go to Runtime :: Change Runtime Type and setting Hardware Accelerator to GPU. You will need to rerun the notebook from the beginning once you switch from CPU to GPU.\n",
        "2. Set the device to `torch.device(\"cuda\")` if GPU is available otherwise set it to `torch.device(\"cpu\")`.\n",
        "3. Instantiate the GNN model and set the model to the appropriate device using `model.to(device)`.\n",
        "4. Define the loss function to be `torch.nn.CrossEntropyLoss`.\n",
        "5. Instantiate the `torch.optim.Adam` optimizer with model parameters and the appropriate `LEARNING_RATE` parameters.\n",
        "6. Run the training loop for `NUM_EPOCHS` epochs and capture the training and validation losses and accuracies returned.\n",
        "7. Use the training and validation losses and accuracies tuple to plot the loss and accuracy curves for the model training (the plotting code should be identical to the one you built in the previous Node Classification exercise)."
      ]
    },
    {
      "cell_type": "code",
      "metadata": {
        "id": "dDBxCYbnk2bV"
      },
      "source": [
        "# model parameters\n",
        "INPUT_DIM = dataset.num_features\n",
        "HIDDEN_DIM = 256\n",
        "OUTPUT_DIM = dataset.num_classes\n",
        "NUM_GCN_LAYERS = 5\n",
        "DROPOUT_PCT = 0.5\n",
        "\n",
        "# optimizer\n",
        "LEARNING_RATE = 1e-3\n",
        "\n",
        "NUM_EPOCHS = 30"
      ],
      "execution_count": null,
      "outputs": []
    },
    {
      "cell_type": "code",
      "metadata": {
        "id": "tpkcogE1Y0TO"
      },
      "source": [
        "# your code here"
      ],
      "execution_count": null,
      "outputs": []
    },
    {
      "cell_type": "markdown",
      "metadata": {
        "id": "JRJ3G0BYDlQN"
      },
      "source": [
        "## Evaluation\n",
        "\n",
        "Now evaluate your trained model on the held out test set, reporting both accuracy and AUC scores. You can reuse the `eval_step()` function that you used for evaluating the model with the validation set during the training.\n",
        "\n",
        "Report the accuracy and AUC score values on the test set to 5 decimal places."
      ]
    },
    {
      "cell_type": "code",
      "metadata": {
        "id": "RBCz4hV5Y52e"
      },
      "source": [
        "# your code here"
      ],
      "execution_count": null,
      "outputs": []
    },
    {
      "cell_type": "markdown",
      "metadata": {
        "id": "uSLJ7al-aHuy"
      },
      "source": [
        "## Repeat Classification with MAX Pooling\n",
        "\n",
        "Investigate the effect on the graph classification accuracy by changing the global pooling strategy to MAX, i.e. `torch_geometric.nn.global_max_pool`. Here are the steps.\n",
        "\n",
        "1. Either copy-paste the previous network and make the necessary changes, or parameterize your original model with a `pooling_strategy` parameter.\n",
        "2. Instantiate the model and set it to the correct `device`.\n",
        "3. Instantiate the `CrossEntropyLoss` loss function\n",
        "4. Instantiate the `Adam` optimizer with the new model parameters.\n",
        "5. Run the training loop for `NUM_EPOCHS` epochs, capturing the training and validation loss and accuracies.\n",
        "6. Use the list of tuples to plot the training curves for training and validation loss and accuracies.\n",
        "7. Compute and report the accuracy and AUC of the network with MAX pooling against the held-out test set."
      ]
    },
    {
      "cell_type": "code",
      "metadata": {
        "id": "NZ6EH_ALY8h-"
      },
      "source": [
        "# your code here"
      ],
      "execution_count": null,
      "outputs": []
    },
    {
      "cell_type": "markdown",
      "metadata": {
        "id": "GAnEcvEja4oE"
      },
      "source": [
        "## Repeat Classification with SUM Pooling\n",
        "\n",
        "Now investigate the effect on the graph classification accuracy by changing the global pooling strategy to SUM, i.e., `torch_geometric.nn.global_add_pool`. Here are the steps.\n",
        "\n",
        "1. Either copy-paste the previous network and make the necessary changes, or parameterize your original model with a `pooling_strategy` parameter.\n",
        "2. Instantiate the model and set it to the correct `device`.\n",
        "3. Instantiate the `CrossEntropyLoss` loss function\n",
        "4. Instantiate the `Adam` optimizer with the new model parameters.\n",
        "5. Run the training loop for `NUM_EPOCHS` epochs, capturing the training and validation loss and accuracies.\n",
        "6. Use the list of tuples to plot the training curves for training and validation loss and accuracies.\n",
        "7. Compute and report the accuracy and AUC of the network with SUM pooling against the held-out test set."
      ]
    },
    {
      "cell_type": "code",
      "metadata": {
        "id": "1ZG1YK7aZAR1"
      },
      "source": [
        "# your code here"
      ],
      "execution_count": null,
      "outputs": []
    },
    {
      "cell_type": "code",
      "metadata": {
        "id": "xPCsH-p8bZss"
      },
      "source": [
        ""
      ],
      "execution_count": null,
      "outputs": []
    }
  ]
}