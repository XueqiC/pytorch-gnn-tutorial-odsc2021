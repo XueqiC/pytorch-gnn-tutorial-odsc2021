{
  "nbformat": 4,
  "nbformat_minor": 0,
  "metadata": {
    "colab": {
      "name": "04x-link-prediction.ipynb",
      "provenance": [],
      "collapsed_sections": []
    },
    "kernelspec": {
      "name": "python3",
      "display_name": "Python 3"
    },
    "language_info": {
      "name": "python"
    }
  },
  "cells": [
    {
      "cell_type": "markdown",
      "metadata": {
        "id": "cmaAIUNJaG6T"
      },
      "source": [
        "# Link Prediction\n",
        "\n",
        "Build a GNN to predict links in a citation graph of academic papers.\n",
        "\n",
        "The citation graph we will use for training this GNN is the [CORA Dataset](https://relational.fit.cvut.cz/dataset/CORA) available from the `torch_geometric.datasets.Planetoid` package.\n",
        "\n",
        "## Setup\n",
        "\n",
        "The following two cells import Pytorch Geometric (PyG) and a couple of supporting Pytorch packages that are customized against the torch version."
      ]
    },
    {
      "cell_type": "code",
      "metadata": {
        "colab": {
          "base_uri": "https://localhost:8080/",
          "height": 35
        },
        "id": "FlIGW0T2aBR2",
        "outputId": "511ac326-232b-4d33-a499-aae171e80b3a"
      },
      "source": [
        "import torch\n",
        "torch.__version__"
      ],
      "execution_count": null,
      "outputs": [
        {
          "output_type": "execute_result",
          "data": {
            "application/vnd.google.colaboratory.intrinsic+json": {
              "type": "string"
            },
            "text/plain": [
              "'1.9.0+cu111'"
            ]
          },
          "metadata": {},
          "execution_count": 21
        }
      ]
    },
    {
      "cell_type": "code",
      "metadata": {
        "id": "jc2WG-ILaMfp"
      },
      "source": [
        "%%capture\n",
        "!pip install -q torch-scatter -f https://pytorch-geometric.com/whl/torch-1.9.0+cu111.html\n",
        "!pip install -q torch-sparse -f https://pytorch-geometric.com/whl/torch-1.9.0+cu111.html\n",
        "!pip install -q torch-geometric"
      ],
      "execution_count": null,
      "outputs": []
    },
    {
      "cell_type": "markdown",
      "metadata": {
        "id": "825fkr6ukLSR"
      },
      "source": [
        "## Dataset\n",
        "\n",
        "The CORA dataset consists of a single graph consisting of 2,708 academic papers. Here is the output of printing `dataset[0]` from the [node classification example solution](02-node-classification.ipynb).\n",
        "\n",
        "```\n",
        "Data(x=[2708, 1433], edge_index=[2, 10556], y=[2708], train_mask=[2708], val_mask=[2708], test_mask=[2708])\n",
        "```\n",
        "\n",
        "The partitioning in different splits is achieved using the different masks. For edge prediction, however, we want to look at edges, so we will apply a transform to the Planetoid dataset to split the dataset randomly by edge.\n",
        "\n",
        "In addition, we will add negative examples, i.e. edges that don't occur in the graph.\n",
        "\n",
        "* Compose a transform consisting of `torch_geometric.transforms.NormalizeFeatures` and `torch_geometric.transforms.RandomLinkSplit`. \n",
        "* The `NormalizeFeatures` transform normalizes the node feature vector elements so they add up to 1. This is to normalize the vectors so their dot product is the same as cosine similarity, a value between 0 (negative pair label) and 1 (positive pair label).\n",
        "* The `RandomLinkSplit` splits the graph into subgraphs by edge. Split the graph such that 85% edges are in the training split, 5% edges are in the validation split and 10% edges in the test split.\n",
        "* Add negative training samples, i.e. edges that don't exist in the training subgraph and with an `edge_label` of 0. This is to allow the GNN to see negative examples during training. Add an equal number of negative samples as positive examples. You can do so by setting the `add_negative_train_samples` parameter of `RandomLinkSplit` to `True`.\n",
        "* Set this transform to the `Planetoid` call to download the CORA dataset using the `transform` parameter, this will automatically create 3 edge-oriented data splits, with additional attributes in their corresponding `Data` objects as shown below.\n",
        "\n",
        "```\n",
        "(\n",
        "    Data(x=[2708, 1433], edge_index=[2, 8976], y=[2708], train_mask=[2708], val_mask=[2708], test_mask=[2708], edge_label=[8976], edge_label_index=[2, 8976]),\n",
        "    Data(x=[2708, 1433], edge_index=[2, 8976], y=[2708], train_mask=[2708], val_mask=[2708], test_mask=[2708], edge_label=[526], edge_label_index=[2, 526]),\n",
        "    Data(x=[2708, 1433], edge_index=[2, 9502], y=[2708], train_mask=[2708], val_mask=[2708], test_mask=[2708], edge_label=[1054], edge_label_index=[2, 1054])\n",
        ")\n",
        "```\n",
        "\n",
        "Compute and verify the following on the downloaded dataset.\n",
        "\n",
        "* Number of (node) features (should be 1,433)\n",
        "* Number of target classes (should be 7)\n",
        "* The contents of the first element of the dataset should consist of 3 `Data` elements as shown above."
      ]
    },
    {
      "cell_type": "code",
      "metadata": {
        "id": "pIqmsol9CttN"
      },
      "source": [
        "import torch_geometric.transforms as T\n",
        "from torch_geometric.datasets import Planetoid"
      ],
      "execution_count": null,
      "outputs": []
    },
    {
      "cell_type": "code",
      "metadata": {
        "id": "huGHQJkVXlDa"
      },
      "source": [
        "# your code here"
      ],
      "execution_count": null,
      "outputs": []
    },
    {
      "cell_type": "markdown",
      "metadata": {
        "id": "GDjII6PNlB-D"
      },
      "source": [
        "## DataLoader\n",
        "\n",
        "The `Data` splits do not lend themselves to batch level training. For this exercise, we will work with each subgraph in its entirety.\n",
        "\n",
        "Note that you could create `DataLoaders` from the splits by doing this:\n",
        "\n",
        "`train_loader = DataLoader([train_dataset], shuffle=True, ...)`\n",
        "\n",
        "but it will result in a single batch.\n",
        "\n",
        "Separate the splits into a `train_dataset`, `val_dataset` and `test_dataset`."
      ]
    },
    {
      "cell_type": "code",
      "metadata": {
        "id": "iRESsFgVlIpp"
      },
      "source": [
        "from torch_geometric.loader import DataLoader"
      ],
      "execution_count": null,
      "outputs": []
    },
    {
      "cell_type": "code",
      "metadata": {
        "id": "gzGWdbvalFyA"
      },
      "source": [
        "# your code here"
      ],
      "execution_count": null,
      "outputs": []
    },
    {
      "cell_type": "markdown",
      "metadata": {
        "id": "Lakd48salQkW"
      },
      "source": [
        "## Model\n",
        "\n",
        "Conceptually, we generate encodings for each node participating in an edge (positive or negative) and compute the similarity between all pairs of nodes. The network learns to push positive node pairs closer together and negative node pairs further apart using gradient descent.\n",
        "\n",
        "From an implementation point of view, the node embeddings are learned on the entire subgraph in one shot, then the source and destination node vectors are separated out and the similarities between them computed.\n",
        "\n",
        "Implement a network with the following layers.\n",
        "\n",
        "1. _k_ layers of `GCNConv`, the first one with input dimension `input_dim` and output dimension `hidden_dim`, and the other _k-1_ layers with input and output dimention `hidden_dim`.\n",
        "2. All `GCNConv` layers are followed by a `BatchNorm1d` layer.\n",
        "3. Except for the last `GCNConv` + `BatchNorm1d` pair, all are followed by a `Droput` layer and a `ReLU` activation layer.\n",
        "4. The output of the last `GCNConv` + `BatchNorm1d` is separated into source and destination nodes by calling `torch.index_select` on the output and the first and second rows of the `edge_label_index`.\n",
        "5. The similarity between all source and destination nodes is computed by computing the dot product of the source and destination nodes.\n",
        "6. Because our vectors are pre-normalized, the dot product is the same as cosine similarity, and the range of values corresponds to the labels 0 and 1 for negative and positive pair respectively.\n",
        "\n",
        "Verify that your network design is sound by sending the training dataset through a newly instantiated instance."
      ]
    },
    {
      "cell_type": "markdown",
      "metadata": {
        "id": "M9i0oKY0S17A"
      },
      "source": [
        "![fig-04-01.png](data:image/png;base64,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)"
      ]
    },
    {
      "cell_type": "code",
      "metadata": {
        "id": "i7E5Zki6lNFW"
      },
      "source": [
        "import torch.nn as nn\n",
        "import torch.nn.functional as F\n",
        "import torch_geometric.nn as pyg_nn"
      ],
      "execution_count": null,
      "outputs": []
    },
    {
      "cell_type": "code",
      "metadata": {
        "id": "VnrFrdLBlcij"
      },
      "source": [
        "# your code here"
      ],
      "execution_count": null,
      "outputs": []
    },
    {
      "cell_type": "markdown",
      "metadata": {
        "id": "yz93yW9jcr9G"
      },
      "source": [
        "## Training Loop\n",
        "\n",
        "As in the previous exercises, organize your code into a `train_step`, `eval_step` and `train_loop`.\n",
        "\n",
        "The target here is also binary, i.e. there may exist an edge between a pair of nodes or not, so once again we will use the ROC-AUC metric rather than accuracy to evaluate our model.\n",
        "\n",
        "In this case, since the graphs cannot be batched (using a DataLoader will iterate over a single batch), we can compute the ROC-AUC directly in the `train_step` and `eval_step` functions rather than postponing the computation in the `train_loop` function. As before, you should use the [Scikit-Learn ROC-AUC metric](https://scikit-learn.org/stable/modules/model_evaluation.html#roc-metrics) to compute the AUC metric.\n",
        "\n",
        "### train_step\n",
        "\n",
        "  1. In the `train_step` generate the predictions by running the `train_dataset` through the model, computing the loss, backpropagating the gradient of the loss and updating the model weights.\n",
        "  2. Compute the AUC score for the entire dataset using the Scikit-Learn function [roc_auc_score](https://scikit-learn.org/stable/modules/generated/sklearn.metrics.roc_auc_score.html#sklearn.metrics.roc_auc_score)\n",
        "  3. Report the loss and AUC score over the entire dataset.\n",
        "\n",
        "### eval_step\n",
        "\n",
        "  1. Generate the predictions against the validation or test dataset using the current state of the model. As before, compute the loss and AUC score, but do not backpropagate.\n",
        "\n",
        "### train_loop\n",
        "\n",
        "  1. Run the `train_step` and `eval_step` over the required number of epochs."
      ]
    },
    {
      "cell_type": "code",
      "metadata": {
        "id": "fIMq6BAUk3gG"
      },
      "source": [
        "from sklearn.metrics import roc_auc_score"
      ],
      "execution_count": null,
      "outputs": []
    },
    {
      "cell_type": "code",
      "metadata": {
        "id": "KWmEJ7w2a49A"
      },
      "source": [
        "# your code here"
      ],
      "execution_count": null,
      "outputs": []
    },
    {
      "cell_type": "markdown",
      "metadata": {
        "id": "B9aVKdQ3hHs0"
      },
      "source": [
        "## Train\n",
        "\n",
        "Train the model using the hyperparameters listed below. Use the Adam optimizer. Plot the training plots."
      ]
    },
    {
      "cell_type": "code",
      "metadata": {
        "id": "BzoE0bVGg_zJ"
      },
      "source": [
        "# model parameters\n",
        "INPUT_DIM = dataset.num_features\n",
        "HIDDEN_DIM = 128\n",
        "OUTPUT_DIM = dataset.num_classes\n",
        "NUM_GCN_LAYERS = 3\n",
        "DROPOUT_PCT = 0.5\n",
        "\n",
        "# optimizer\n",
        "LEARNING_RATE = 1e-2\n",
        "\n",
        "NUM_EPOCHS = 100"
      ],
      "execution_count": null,
      "outputs": []
    },
    {
      "cell_type": "code",
      "metadata": {
        "id": "lV-Z_Clrn4Wy"
      },
      "source": [
        "import matplotlib.pyplot as plt\n",
        "import numpy as np"
      ],
      "execution_count": null,
      "outputs": []
    },
    {
      "cell_type": "code",
      "metadata": {
        "id": "hZ4bJwg5hTHB"
      },
      "source": [
        "# your code here"
      ],
      "execution_count": null,
      "outputs": []
    },
    {
      "cell_type": "markdown",
      "metadata": {
        "id": "-hp9BenlRr5G"
      },
      "source": [
        "## Evaluation\n",
        "\n",
        "Evaluate the model against the `test_dataset` and report the AUC score."
      ]
    },
    {
      "cell_type": "code",
      "metadata": {
        "id": "oP4oUoZHnhv-"
      },
      "source": [
        "# your code here"
      ],
      "execution_count": null,
      "outputs": []
    }
  ]
}